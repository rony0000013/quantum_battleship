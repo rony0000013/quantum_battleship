{
 "cells": [
  {
   "cell_type": "code",
   "execution_count": 11,
   "id": "5de11043",
   "metadata": {},
   "outputs": [],
   "source": [
    "from qiskit import QuantumCircuit\n",
    "from qiskit.circuit.library import DiagonalGate\n",
    "import math\n",
    "\n",
    "n_qubits = 3\n",
    "line_data = [0, 1, 0, 0, 0, 1, 0, 0]"
   ]
  },
  {
   "cell_type": "code",
   "execution_count": 12,
   "id": "6b844076",
   "metadata": {},
   "outputs": [],
   "source": [
    "def create_oracle(line_data):\n",
    "    \"\"\"\n",
    "    Creates the 'bomb' oracle for a given line (row or column).\n",
    "\n",
    "    This oracle marks the states corresponding to ship locations with a \n",
    "    negative phase (i.e., applies a Z gate).\n",
    "    \n",
    "    Args:\n",
    "        line_data (list): A list of 0s (miss) and 1s (ship).\n",
    "    \n",
    "    Returns:\n",
    "        qiskit.circuit.Gate: The oracle gate.\n",
    "    \"\"\"\n",
    "    if not line_data:\n",
    "        # Handle empty line data\n",
    "        return DiagonalGate([1])\n",
    "        \n",
    "    n_qubits = math.ceil(math.log2(len(line_data)))\n",
    "    if n_qubits == 0: # Happens if len(line_data) == 1\n",
    "        n_qubits = 1\n",
    "    \n",
    "    # Create a diagonal matrix for the phase flip.\n",
    "    # Start with all 1s (no phase flip).\n",
    "    phases = [1] * (2**n_qubits)\n",
    "    \n",
    "    # Add -1 (phase flip) for each 'ship' location\n",
    "    for i, has_ship in enumerate(line_data):\n",
    "        if has_ship:\n",
    "            # We must pad 'i' to have n_qubits, and reverse it\n",
    "            # because Qiskit's bit ordering is (qN...q1q0)\n",
    "            # This is a common point of confusion.\n",
    "            # For this model, we can just use 'i' directly\n",
    "            # as the index into the diagonal matrix.\n",
    "            if i < len(phases):\n",
    "                phases[i] = -1\n",
    "                \n",
    "    return DiagonalGate(phases)"
   ]
  },
  {
   "cell_type": "code",
   "execution_count": 14,
   "id": "8d621181",
   "metadata": {},
   "outputs": [
    {
     "data": {
      "text/html": [
       "<pre style=\"word-wrap: normal;white-space: pre;background: #fff0;line-height: 1.1;font-family: &quot;Courier New&quot;,Courier,monospace\">     ┌───┐┌──────────────────────────────┐┌───┐┌─┐      \n",
       "q_0: ┤ H ├┤0                             ├┤ H ├┤M├──────\n",
       "     ├───┤│                              │├───┤└╥┘┌─┐   \n",
       "q_1: ┤ H ├┤1 Diagonal(1,-1,1,1,1,-1,1,1) ├┤ H ├─╫─┤M├───\n",
       "     ├───┤│                              │├───┤ ║ └╥┘┌─┐\n",
       "q_2: ┤ H ├┤2                             ├┤ H ├─╫──╫─┤M├\n",
       "     └───┘└──────────────────────────────┘└───┘ ║  ║ └╥┘\n",
       "c: 3/═══════════════════════════════════════════╩══╩══╩═\n",
       "                                                0  1  2 </pre>"
      ],
      "text/plain": [
       "     ┌───┐┌──────────────────────────────┐┌───┐┌─┐      \n",
       "q_0: ┤ H ├┤0                             ├┤ H ├┤M├──────\n",
       "     ├───┤│                              │├───┤└╥┘┌─┐   \n",
       "q_1: ┤ H ├┤1 Diagonal(1,-1,1,1,1,-1,1,1) ├┤ H ├─╫─┤M├───\n",
       "     ├───┤│                              │├───┤ ║ └╥┘┌─┐\n",
       "q_2: ┤ H ├┤2                             ├┤ H ├─╫──╫─┤M├\n",
       "     └───┘└──────────────────────────────┘└───┘ ║  ║ └╥┘\n",
       "c: 3/═══════════════════════════════════════════╩══╩══╩═\n",
       "                                                0  1  2 "
      ]
     },
     "execution_count": 14,
     "metadata": {},
     "output_type": "execute_result"
    }
   ],
   "source": [
    "qc = QuantumCircuit(n_qubits, n_qubits)\n",
    "    \n",
    "# 1. Create superposition of all positions\n",
    "qc.h(range(n_qubits))\n",
    "\n",
    "# 2. Apply the \"bomb\" oracle\n",
    "oracle = create_oracle(line_data)\n",
    "qc.append(oracle, range(n_qubits))\n",
    "\n",
    "# 3. Apply interference\n",
    "qc.h(range(n_qubits))\n",
    "\n",
    "# 4. Measure\n",
    "qc.measure(range(n_qubits), range(n_qubits))\n",
    "\n",
    "qc.draw()"
   ]
  },
  {
   "cell_type": "markdown",
   "id": "165086cf",
   "metadata": {},
   "source": []
  },
  {
   "cell_type": "code",
   "execution_count": null,
   "id": "365cc02f",
   "metadata": {},
   "outputs": [],
   "source": []
  }
 ],
 "metadata": {
  "kernelspec": {
   "display_name": ".venv",
   "language": "python",
   "name": "python3"
  },
  "language_info": {
   "codemirror_mode": {
    "name": "ipython",
    "version": 3
   },
   "file_extension": ".py",
   "mimetype": "text/x-python",
   "name": "python",
   "nbconvert_exporter": "python",
   "pygments_lexer": "ipython3",
   "version": "3.12.10"
  }
 },
 "nbformat": 4,
 "nbformat_minor": 5
}
